{
 "cells": [
  {
   "cell_type": "markdown",
   "metadata": {
    "collapsed": true
   },
   "source": [
    "# essential gene cnv analysis\n",
    "\n",
    "Step-by-step process\n",
    "\n",
    "1. matched_sample의 tumor column에서 마지막 알파벳을 뗀다.\n",
    "2. cnv_df에서 match_df에 있는 것만 남겨둔다.\n",
    "3. cnv_df의 gene list에서 predicted list에 있는 것만 뽑아낸다."
   ]
  },
  {
   "cell_type": "code",
   "execution_count": 1,
   "metadata": {
    "collapsed": true
   },
   "outputs": [],
   "source": [
    "import numpy as np\n",
    "import pandas as pd\n",
    "import matplotlib.pyplot as plt"
   ]
  },
  {
   "cell_type": "code",
   "execution_count": 4,
   "metadata": {},
   "outputs": [
    {
     "data": {
      "text/html": [
       "<div>\n",
       "<style>\n",
       "    .dataframe thead tr:only-child th {\n",
       "        text-align: right;\n",
       "    }\n",
       "\n",
       "    .dataframe thead th {\n",
       "        text-align: left;\n",
       "    }\n",
       "\n",
       "    .dataframe tbody tr th {\n",
       "        vertical-align: top;\n",
       "    }\n",
       "</style>\n",
       "<table border=\"1\" class=\"dataframe\">\n",
       "  <thead>\n",
       "    <tr style=\"text-align: right;\">\n",
       "      <th></th>\n",
       "      <th>BT20_BREAST</th>\n",
       "      <th>BT474_BREAST</th>\n",
       "      <th>CAL120_BREAST</th>\n",
       "      <th>CAL51_BREAST</th>\n",
       "      <th>EFM19_BREAST</th>\n",
       "      <th>HCC1187_BREAST</th>\n",
       "      <th>HCC1395_BREAST</th>\n",
       "      <th>HCC1954_BREAST</th>\n",
       "      <th>HCC2218_BREAST</th>\n",
       "      <th>HCC70_BREAST</th>\n",
       "      <th>...</th>\n",
       "      <th>MDAMB157_BREAST</th>\n",
       "      <th>MDAMB175VII_BREAST</th>\n",
       "      <th>MDAMB231_BREAST</th>\n",
       "      <th>MDAMB361_BREAST</th>\n",
       "      <th>MDAMB415_BREAST</th>\n",
       "      <th>MDAMB436_BREAST</th>\n",
       "      <th>MDAMB468_BREAST</th>\n",
       "      <th>T47D_BREAST</th>\n",
       "      <th>UACC812_BREAST</th>\n",
       "      <th>ZR751_BREAST</th>\n",
       "    </tr>\n",
       "    <tr>\n",
       "      <th>gene</th>\n",
       "      <th></th>\n",
       "      <th></th>\n",
       "      <th></th>\n",
       "      <th></th>\n",
       "      <th></th>\n",
       "      <th></th>\n",
       "      <th></th>\n",
       "      <th></th>\n",
       "      <th></th>\n",
       "      <th></th>\n",
       "      <th></th>\n",
       "      <th></th>\n",
       "      <th></th>\n",
       "      <th></th>\n",
       "      <th></th>\n",
       "      <th></th>\n",
       "      <th></th>\n",
       "      <th></th>\n",
       "      <th></th>\n",
       "      <th></th>\n",
       "      <th></th>\n",
       "    </tr>\n",
       "  </thead>\n",
       "  <tbody>\n",
       "    <tr>\n",
       "      <th>A1BG</th>\n",
       "      <td>0.3890</td>\n",
       "      <td>0.0706</td>\n",
       "      <td>0.6705</td>\n",
       "      <td>0.0093</td>\n",
       "      <td>-0.3960</td>\n",
       "      <td>0.4510</td>\n",
       "      <td>-0.4419</td>\n",
       "      <td>-0.1831</td>\n",
       "      <td>-0.9041</td>\n",
       "      <td>0.1532</td>\n",
       "      <td>...</td>\n",
       "      <td>-1.0125</td>\n",
       "      <td>0.0829</td>\n",
       "      <td>0.1025</td>\n",
       "      <td>0.0610</td>\n",
       "      <td>0.7256</td>\n",
       "      <td>0.3608</td>\n",
       "      <td>0.4525</td>\n",
       "      <td>-0.4435</td>\n",
       "      <td>0.1408</td>\n",
       "      <td>0.1895</td>\n",
       "    </tr>\n",
       "    <tr>\n",
       "      <th>NAT2</th>\n",
       "      <td>-1.1842</td>\n",
       "      <td>-0.3632</td>\n",
       "      <td>-0.4460</td>\n",
       "      <td>-0.0221</td>\n",
       "      <td>-1.2911</td>\n",
       "      <td>0.1809</td>\n",
       "      <td>-0.3732</td>\n",
       "      <td>-1.1852</td>\n",
       "      <td>-0.9934</td>\n",
       "      <td>-2.6228</td>\n",
       "      <td>...</td>\n",
       "      <td>-0.1954</td>\n",
       "      <td>0.0599</td>\n",
       "      <td>-0.2970</td>\n",
       "      <td>-1.4493</td>\n",
       "      <td>-0.6250</td>\n",
       "      <td>0.4757</td>\n",
       "      <td>-0.2931</td>\n",
       "      <td>-0.4268</td>\n",
       "      <td>-0.0632</td>\n",
       "      <td>-0.1390</td>\n",
       "    </tr>\n",
       "    <tr>\n",
       "      <th>ADA</th>\n",
       "      <td>0.7980</td>\n",
       "      <td>1.7516</td>\n",
       "      <td>0.5664</td>\n",
       "      <td>-0.0136</td>\n",
       "      <td>0.0845</td>\n",
       "      <td>-0.3531</td>\n",
       "      <td>0.5764</td>\n",
       "      <td>0.2520</td>\n",
       "      <td>0.6168</td>\n",
       "      <td>-1.3538</td>\n",
       "      <td>...</td>\n",
       "      <td>0.2583</td>\n",
       "      <td>0.6019</td>\n",
       "      <td>0.4531</td>\n",
       "      <td>0.2405</td>\n",
       "      <td>0.4371</td>\n",
       "      <td>-0.5746</td>\n",
       "      <td>0.1114</td>\n",
       "      <td>0.4846</td>\n",
       "      <td>0.1210</td>\n",
       "      <td>0.6378</td>\n",
       "    </tr>\n",
       "    <tr>\n",
       "      <th>CDH2</th>\n",
       "      <td>0.3634</td>\n",
       "      <td>0.2889</td>\n",
       "      <td>-0.1769</td>\n",
       "      <td>0.0093</td>\n",
       "      <td>-0.3419</td>\n",
       "      <td>0.6208</td>\n",
       "      <td>0.6477</td>\n",
       "      <td>-0.1493</td>\n",
       "      <td>0.0090</td>\n",
       "      <td>-0.1168</td>\n",
       "      <td>...</td>\n",
       "      <td>-0.7580</td>\n",
       "      <td>-0.7993</td>\n",
       "      <td>0.1173</td>\n",
       "      <td>0.1663</td>\n",
       "      <td>-0.8064</td>\n",
       "      <td>0.3604</td>\n",
       "      <td>-0.3606</td>\n",
       "      <td>-0.4444</td>\n",
       "      <td>0.0886</td>\n",
       "      <td>0.3677</td>\n",
       "    </tr>\n",
       "    <tr>\n",
       "      <th>AKT3</th>\n",
       "      <td>0.6755</td>\n",
       "      <td>1.4598</td>\n",
       "      <td>0.4514</td>\n",
       "      <td>-0.0409</td>\n",
       "      <td>0.4462</td>\n",
       "      <td>0.4859</td>\n",
       "      <td>0.1941</td>\n",
       "      <td>0.3615</td>\n",
       "      <td>0.9867</td>\n",
       "      <td>0.4725</td>\n",
       "      <td>...</td>\n",
       "      <td>0.7559</td>\n",
       "      <td>0.6839</td>\n",
       "      <td>0.1055</td>\n",
       "      <td>0.1966</td>\n",
       "      <td>1.5525</td>\n",
       "      <td>0.3888</td>\n",
       "      <td>0.4108</td>\n",
       "      <td>0.1410</td>\n",
       "      <td>0.9513</td>\n",
       "      <td>1.1919</td>\n",
       "    </tr>\n",
       "  </tbody>\n",
       "</table>\n",
       "<p>5 rows × 34 columns</p>\n",
       "</div>"
      ],
      "text/plain": [
       "      BT20_BREAST  BT474_BREAST  CAL120_BREAST  CAL51_BREAST  EFM19_BREAST  \\\n",
       "gene                                                                         \n",
       "A1BG       0.3890        0.0706         0.6705        0.0093       -0.3960   \n",
       "NAT2      -1.1842       -0.3632        -0.4460       -0.0221       -1.2911   \n",
       "ADA        0.7980        1.7516         0.5664       -0.0136        0.0845   \n",
       "CDH2       0.3634        0.2889        -0.1769        0.0093       -0.3419   \n",
       "AKT3       0.6755        1.4598         0.4514       -0.0409        0.4462   \n",
       "\n",
       "      HCC1187_BREAST  HCC1395_BREAST  HCC1954_BREAST  HCC2218_BREAST  \\\n",
       "gene                                                                   \n",
       "A1BG          0.4510         -0.4419         -0.1831         -0.9041   \n",
       "NAT2          0.1809         -0.3732         -1.1852         -0.9934   \n",
       "ADA          -0.3531          0.5764          0.2520          0.6168   \n",
       "CDH2          0.6208          0.6477         -0.1493          0.0090   \n",
       "AKT3          0.4859          0.1941          0.3615          0.9867   \n",
       "\n",
       "      HCC70_BREAST      ...       MDAMB157_BREAST  MDAMB175VII_BREAST  \\\n",
       "gene                    ...                                             \n",
       "A1BG        0.1532      ...               -1.0125              0.0829   \n",
       "NAT2       -2.6228      ...               -0.1954              0.0599   \n",
       "ADA        -1.3538      ...                0.2583              0.6019   \n",
       "CDH2       -0.1168      ...               -0.7580             -0.7993   \n",
       "AKT3        0.4725      ...                0.7559              0.6839   \n",
       "\n",
       "      MDAMB231_BREAST  MDAMB361_BREAST  MDAMB415_BREAST  MDAMB436_BREAST  \\\n",
       "gene                                                                       \n",
       "A1BG           0.1025           0.0610           0.7256           0.3608   \n",
       "NAT2          -0.2970          -1.4493          -0.6250           0.4757   \n",
       "ADA            0.4531           0.2405           0.4371          -0.5746   \n",
       "CDH2           0.1173           0.1663          -0.8064           0.3604   \n",
       "AKT3           0.1055           0.1966           1.5525           0.3888   \n",
       "\n",
       "      MDAMB468_BREAST  T47D_BREAST  UACC812_BREAST  ZR751_BREAST  \n",
       "gene                                                              \n",
       "A1BG           0.4525      -0.4435          0.1408        0.1895  \n",
       "NAT2          -0.2931      -0.4268         -0.0632       -0.1390  \n",
       "ADA            0.1114       0.4846          0.1210        0.6378  \n",
       "CDH2          -0.3606      -0.4444          0.0886        0.3677  \n",
       "AKT3           0.4108       0.1410          0.9513        1.1919  \n",
       "\n",
       "[5 rows x 34 columns]"
      ]
     },
     "execution_count": 4,
     "metadata": {},
     "output_type": "execute_result"
    }
   ],
   "source": [
    "mutation_df = pd.read_table('../CCLE_BR_lines_mutation.txt', header=0, index_col=0, sep='\\t')\n",
    "cell_cnv_df = pd.read_table('../CCLE_BR_lines_CNV.txt', header=0, index_col=0, sep='\\t')\n",
    "mutation_df.head()\n",
    "cell_cnv_df.head()"
   ]
  },
  {
   "cell_type": "code",
   "execution_count": null,
   "metadata": {
    "collapsed": true
   },
   "outputs": [],
   "source": []
  },
  {
   "cell_type": "code",
   "execution_count": null,
   "metadata": {
    "collapsed": true
   },
   "outputs": [],
   "source": [
    "# read dataframes\n",
    "cnv_th_df      = pd.read_table('../Gistic2_CopyNumber_Gistic2_all_thresholded.by_genes', header=0, index_col=0, sep='\\t')\n",
    "cnv_val_df     = pd.read_table('../Gistic2_CopyNumber_Gistic2_all_data_by_genes', header=0, index_col=0, sep='\\t')\n",
    "match_df       = pd.read_table('../matched_samples.txt', header=0, index_col=None, sep='\\t')\n",
    "tumor_pred_df  = pd.read_table('../Tumor_prediction.tsv', sep='\\t', header=None, names=['case', 'gene', 'a', 'b'], \n",
    "                              index_col=False, usecols=['case', 'gene'])\n",
    "normal_pred_df = pd.read_table('../Normal_prediction.tsv', sep='\\t', header=None, names=['case', 'gene', 'a', 'b'], \n",
    "                              index_col=False, usecols=['case', 'gene'])\n",
    "# drop last alphabet 'A' or 'B' for compatibility with other datasets\n",
    "match_df.Normal = match_df.Normal.str[:-1]\n",
    "match_df.Tumor = match_df.Tumor.str[:-1]  \n",
    "tumor_pred_df.case = tumor_pred_df.case.str[:-1]\n",
    "normal_pred_df.case = normal_pred_df.case.str[:-1]\n",
    "\n",
    "print match_df.head()\n",
    "print cnv_th_df.head()\n",
    "print cnv_val_df.head()\n",
    "print tumor_pred_df.head()\n",
    "print normal_pred_df.head()"
   ]
  },
  {
   "cell_type": "code",
   "execution_count": null,
   "metadata": {
    "collapsed": true
   },
   "outputs": [],
   "source": [
    "# 'TCGA-BH-A0B8-01' and 'TCGA-E2-A1LS-01' does not exist in cnv_df\n",
    "drop_idx = match_df[(match_df.Tumor.str.find('TCGA-BH-A0B8-01') != -1) | (match_df.Tumor.str.find('TCGA-E2-A1LS-01') != -1)].index\n",
    "match_df.drop(drop_idx, axis=0, inplace=True)\n",
    "cases = match_df.Tumor\n",
    "# leave only match cases\n",
    "case_cnv_th_df = cnv_th_df[cases]\n",
    "case_cnv_val_df = cnv_val_df[cases]"
   ]
  },
  {
   "cell_type": "code",
   "execution_count": null,
   "metadata": {
    "collapsed": true
   },
   "outputs": [],
   "source": [
    "# construct new dataframe\n",
    "# case                 gene     normal_ess    tumor_ess    cnv-threshold   cnv_val\n",
    "# TCGA-BH-A18U-01    COX4I1              1            0               2       1.23\n",
    "\n",
    "new_df = pd.DataFrame(columns=['case', 'gene', 'normal_ess', 'tumor_ess', 'cnv_threshold', 'cnv_val'])\n",
    "for idx, row in tumor_pred_df.iterrows():\n",
    "    #print row\n",
    "    try:\n",
    "        new_row = pd.Series({'case' : row.case,\n",
    "                            'gene' : row.gene,\n",
    "                            'normal_ess' : 0,\n",
    "                            'tumor_ess' : 1,\n",
    "                            'cnv_threshold' : case_cnv_th_df.loc[row.gene, row.case],\n",
    "                            'cnv_val' : case_cnv_val_df.loc[row.gene, row.case]})\n",
    "        new_df = new_df.append(new_row, ignore_index=True)\n",
    "    except KeyError:\n",
    "        pass\n",
    "        #print \"{0} does not exist\".format(row)\n",
    "\n",
    "\n",
    "for idx, row in normal_pred_df.iterrows():\n",
    "    #print row\n",
    "    try:\n",
    "        new_row = pd.Series({'case' : row.case[:-2] + '01',\n",
    "                            'gene' : row.gene,\n",
    "                            'normal_ess' : 1,\n",
    "                            'tumor_ess' : 0,\n",
    "                            'cnv_threshold' : case_cnv_th_df.loc[row.gene, row.case[:-2] + '01'],\n",
    "                            'cnv_val' : case_cnv_val_df.loc[row.gene, row.case[:-2] + '01']})\n",
    "        new_df = new_df.append(new_row, ignore_index=True)\n",
    "    except KeyError:\n",
    "        pass\n",
    "        #print \"{0} does not exist\".format(row)\n",
    "\n"
   ]
  },
  {
   "cell_type": "code",
   "execution_count": null,
   "metadata": {
    "collapsed": true,
    "scrolled": true
   },
   "outputs": [],
   "source": [
    "new_df.loc[new_df[new_df.duplicated(subset=['case', 'gene'], keep=False)].index, 'normal_ess'] = 1\n",
    "new_df.loc[new_df[new_df.duplicated(subset=['case', 'gene'], keep=False)].index, 'tumor_ess'] = 1\n",
    "new_df.drop_duplicates(inplace=True)\n",
    "new_df"
   ]
  },
  {
   "cell_type": "code",
   "execution_count": null,
   "metadata": {
    "collapsed": true
   },
   "outputs": [],
   "source": [
    "new_df.to_csv('../essential_gene_cnv_gistic.tsv', sep='\\t')"
   ]
  },
  {
   "cell_type": "code",
   "execution_count": null,
   "metadata": {
    "collapsed": true
   },
   "outputs": [],
   "source": [
    "np.unique(new_df.gene.values).shape"
   ]
  },
  {
   "cell_type": "code",
   "execution_count": null,
   "metadata": {
    "collapsed": true,
    "scrolled": true
   },
   "outputs": [],
   "source": [
    "plt.figure()\n",
    "new_df[(new_df['normal_ess'] == 0) & (new_df['tumor_ess'] == 1)].cnv_threshold.plot.hist(alpha=0.5, color='r')\n",
    "#new_df[(new_df['normal_ess'] == 1) & (new_df['tumor_ess'] == 0)].cnv_threshold.plot.hist(alpha=0.5, color='y')\n",
    "#new_df[(new_df['normal_ess'] == 1) & (new_df['tumor_ess'] == 1)].cnv_threshold.plot.hist(alpha=0.5, color='g')\n",
    "plt.show()"
   ]
  },
  {
   "cell_type": "code",
   "execution_count": null,
   "metadata": {
    "collapsed": true
   },
   "outputs": [],
   "source": [
    "cyclops = pd.read_table('../CYCLOPS_project_drive.txt', header=None, names=['gene'], index_col=False)\n",
    "cyclops = cyclops.gene.values\n",
    "cancer_role = pd.read_table('../Cancer_Role.tsv', header=None, names=['gene', 'role'], index_col=False)"
   ]
  },
  {
   "cell_type": "code",
   "execution_count": null,
   "metadata": {
    "collapsed": true
   },
   "outputs": [],
   "source": [
    "cyclops_in_frame = []\n",
    "for gene in np.unique(new_df.gene.values):\n",
    "    if gene in cyclops:\n",
    "        cyclops_in_frame.append(gene)\n",
    "print cyclops_in_frame"
   ]
  },
  {
   "cell_type": "code",
   "execution_count": null,
   "metadata": {
    "collapsed": true,
    "scrolled": true
   },
   "outputs": [],
   "source": [
    "oncogenes = cancer_role[cancer_role.role == 'oncogene'].gene.values\n",
    "tsg = cancer_role[cancer_role.role == 'TSG'].gene.values\n",
    "both = cancer_role[cancer_role.role == 'oncogene/TSG'].gene.values\n",
    "\n",
    "new_df['role'] = np.nan\n",
    "for idx, row in new_df.iterrows():\n",
    "    if row.gene in cyclops:\n",
    "        new_df.loc[idx, 'role'] = 'CYCLOPS'\n",
    "    elif row.gene in oncogenes:\n",
    "        new_df.loc[idx, 'role'] = 'oncogene'\n",
    "    elif row.gene in tsg:\n",
    "        new_df.loc[idx, 'role'] = 'TSG'\n",
    "    elif row.gene in both:\n",
    "        new_df.loc[idx, 'role'] = 'oncogene/TSG'\n",
    "new_df"
   ]
  },
  {
   "cell_type": "code",
   "execution_count": null,
   "metadata": {
    "collapsed": true
   },
   "outputs": [],
   "source": [
    "new_df.to_csv('../essential_gene_cnv_gistic.tsv', sep='\\t')"
   ]
  },
  {
   "cell_type": "code",
   "execution_count": null,
   "metadata": {
    "collapsed": true
   },
   "outputs": [],
   "source": [
    "print oncogenes\n",
    "print tsg\n",
    "print both"
   ]
  },
  {
   "cell_type": "code",
   "execution_count": null,
   "metadata": {
    "collapsed": true
   },
   "outputs": [],
   "source": [
    "plt.figure()\n",
    "new_df[(new_df['role'] == 'CYCLOPS') & (new_df['tumor_ess'] == 1)  & (new_df['normal_ess'] == 0)].cnv_val.plot.hist(alpha=0.5, color='r', bins=30)\n",
    "plt.show()"
   ]
  },
  {
   "cell_type": "code",
   "execution_count": null,
   "metadata": {
    "collapsed": true,
    "scrolled": true
   },
   "outputs": [],
   "source": [
    "for gene in np.unique(new_df[(new_df['cnv_threshold'] > 0) & (new_df['normal_ess'] == 0) & (new_df['tumor_ess'] == 1)]['gene'].values):\n",
    "    print gene"
   ]
  },
  {
   "cell_type": "code",
   "execution_count": null,
   "metadata": {
    "collapsed": true,
    "scrolled": true
   },
   "outputs": [],
   "source": [
    "\n",
    "new_df[(new_df['role'] == 'CYCLOPS')]\n"
   ]
  },
  {
   "cell_type": "code",
   "execution_count": null,
   "metadata": {
    "collapsed": true
   },
   "outputs": [],
   "source": [
    "plt.figure()\n",
    "new_df.cnv_val.plot.hist(alpha=0.5, color='r', bins=30)\n",
    "plt.show()"
   ]
  },
  {
   "cell_type": "code",
   "execution_count": null,
   "metadata": {
    "collapsed": true
   },
   "outputs": [],
   "source": [
    "cyclops.shape"
   ]
  },
  {
   "cell_type": "code",
   "execution_count": null,
   "metadata": {
    "collapsed": true,
    "scrolled": true
   },
   "outputs": [],
   "source": [
    "cyclops_all = cnv_th_df.loc[list(cyclops), :].transpose()\n",
    "ls = []\n",
    "for i in cyclops_all.columns:\n",
    "    flag = 1.5 * cyclops_all[i][cyclops_all[i].values > 0].values.shape[0] < cyclops_all[i][cyclops_all[i].values < 0].values.shape[0]\n",
    "    flag = flag and (cyclops_all[i][cyclops_all[i].values < 0].values.shape[0] > cyclops_all[i][cyclops_all[i].values == 0].values.shape[0])\n",
    "    if flag:\n",
    "        plt.figure()\n",
    "        cyclops_all[i].plot.hist(legend=True, alpha=0.5)\n",
    "        plt.show()\n",
    "        ls.append(i)"
   ]
  },
  {
   "cell_type": "code",
   "execution_count": null,
   "metadata": {
    "collapsed": true,
    "scrolled": true
   },
   "outputs": [],
   "source": [
    "for i in ls:\n",
    "    print i"
   ]
  }
 ],
 "metadata": {
  "kernelspec": {
   "display_name": "Python 2",
   "language": "python",
   "name": "python2"
  },
  "language_info": {
   "codemirror_mode": {
    "name": "ipython",
    "version": 2
   },
   "file_extension": ".py",
   "mimetype": "text/x-python",
   "name": "python",
   "nbconvert_exporter": "python",
   "pygments_lexer": "ipython2",
   "version": "2.7.13"
  }
 },
 "nbformat": 4,
 "nbformat_minor": 2
}
